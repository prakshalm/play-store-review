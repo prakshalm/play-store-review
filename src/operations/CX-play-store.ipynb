{
 "cells": [
  {
   "cell_type": "code",
   "execution_count": 34,
   "id": "1f0ea4de",
   "metadata": {},
   "outputs": [],
   "source": [
    "import pandas as pd\n",
    "import numpy as np\n",
    "from thefuzz import fuzz\n",
    "df=pd.read_csv('data_cx.csv')\n"
   ]
  },
  {
   "cell_type": "code",
   "execution_count": 35,
   "id": "c688c897",
   "metadata": {},
   "outputs": [
    {
     "name": "stdout",
     "output_type": "stream",
     "text": [
      "         user_id        user_name  user_phone  order_status\n",
      "0        4679674            Jyoti  8957820872     DELIVERED\n",
      "1       11540079      Vicky Singh  8265858953  REDISPATCHED\n",
      "2        2935047       Bheem Sen   9259185607     DELIVERED\n",
      "3       10149937          Sema ji  7236925645     DELIVERED\n",
      "4       11290511             Ansh  9871275369  REDISPATCHED\n",
      "...          ...              ...         ...           ...\n",
      "481061  11465559   Krishna Kumar   7827765377     CANCELLED\n",
      "481062   3875973     Poonam gupta  7906324493     DELIVERED\n",
      "481063   9509923            Pooja  8279559058     DELIVERED\n",
      "481064   5336131            Kamil  7048942460     DELIVERED\n",
      "481065  10553718  Mohammad Rayyan  7906291342     FULFILLED\n",
      "\n",
      "[481066 rows x 4 columns]\n"
     ]
    }
   ],
   "source": [
    "print(df)\n",
    "df_name=df['user_name']\n",
    "length=df.shape[0]"
   ]
  },
  {
   "cell_type": "code",
   "execution_count": 36,
   "id": "3e829844",
   "metadata": {},
   "outputs": [],
   "source": [
    "def removeDuplicates(lst):\n",
    "      \n",
    "    return list(set([i for i in lst]))\n",
    "\n",
    "def removeDuplicatesPhone(lst):\n",
    "    seen = []\n",
    "    Output = []\n",
    "    for a, b, c in lst:\n",
    "        if not c in seen:\n",
    "            seen.append(c)\n",
    "            Output.append([a, b, c])\n",
    "        else:\n",
    "            index=seen.index(c)\n",
    "            Output[index][1]=str(Output[index][1])+','+str(b)\n",
    "            \n",
    "    return Output\n"
   ]
  },
  {
   "cell_type": "code",
   "execution_count": 38,
   "id": "8c4fe58e",
   "metadata": {},
   "outputs": [
    {
     "ename": "TypeError",
     "evalue": "'list' object is not callable",
     "output_type": "error",
     "traceback": [
      "\u001b[0;31m---------------------------------------------------------------------------\u001b[0m",
      "\u001b[0;31mTypeError\u001b[0m                                 Traceback (most recent call last)",
      "\u001b[1;32m/Users/prakshalm/Documents/cityMall/play-store-review/src/operations/CX-play-store.ipynb Cell 4'\u001b[0m in \u001b[0;36m<cell line: 3>\u001b[0;34m()\u001b[0m\n\u001b[1;32m      <a href='vscode-notebook-cell:/Users/prakshalm/Documents/cityMall/play-store-review/src/operations/CX-play-store.ipynb#ch0000003?line=0'>1</a>\u001b[0m user_name\u001b[39m=\u001b[39m\u001b[39mlist\u001b[39m()\n\u001b[1;32m      <a href='vscode-notebook-cell:/Users/prakshalm/Documents/cityMall/play-store-review/src/operations/CX-play-store.ipynb#ch0000003?line=2'>3</a>\u001b[0m \u001b[39mfor\u001b[39;00m i \u001b[39min\u001b[39;00m \u001b[39mrange\u001b[39m(length):\n\u001b[0;32m----> <a href='vscode-notebook-cell:/Users/prakshalm/Documents/cityMall/play-store-review/src/operations/CX-play-store.ipynb#ch0000003?line=3'>4</a>\u001b[0m     \u001b[39mif\u001b[39;00m(fuzz\u001b[39m.\u001b[39mratio(\u001b[39mstr\u001b[39;49m(df_name[i])\u001b[39m.\u001b[39mlower(),\u001b[39m'\u001b[39m\u001b[39mShashank\u001b[39m\u001b[39m'\u001b[39m\u001b[39m.\u001b[39mlower())\u001b[39m>\u001b[39m\u001b[39m90\u001b[39m):\n\u001b[1;32m      <a href='vscode-notebook-cell:/Users/prakshalm/Documents/cityMall/play-store-review/src/operations/CX-play-store.ipynb#ch0000003?line=4'>5</a>\u001b[0m         user_name\u001b[39m.\u001b[39mappend((df_name[i],df[\u001b[39m'\u001b[39m\u001b[39muser_id\u001b[39m\u001b[39m'\u001b[39m][i],df[\u001b[39m'\u001b[39m\u001b[39muser_phone\u001b[39m\u001b[39m'\u001b[39m][i]))\n\u001b[1;32m      <a href='vscode-notebook-cell:/Users/prakshalm/Documents/cityMall/play-store-review/src/operations/CX-play-store.ipynb#ch0000003?line=5'>6</a>\u001b[0m user_name\u001b[39m=\u001b[39mremoveDuplicates(user_name)\n",
      "\u001b[0;31mTypeError\u001b[0m: 'list' object is not callable"
     ]
    }
   ],
   "source": [
    "user_name=list()\n",
    "\n",
    "for i in range(length):\n",
    "    if(fuzz.ratio(str(df_name[i]).lower(),'Shashank'.lower())>90):\n",
    "        user_name.append((df_name[i],df['user_id'][i],df['user_phone'][i]))\n",
    "user_name=removeDuplicates(user_name)\n",
    "user_name=removeDuplicatesPhone(user_name)\n",
    "user_name_df=pd.DataFrame(user_name)\n",
    "user_name_df.rename(columns = {0:'Name',1:'user_id',2:'user_phone'}, inplace = True)"
   ]
  },
  {
   "cell_type": "code",
   "execution_count": 18,
   "id": "9bd4313e",
   "metadata": {
    "scrolled": true
   },
   "outputs": [
    {
     "name": "stdout",
     "output_type": "stream",
     "text": [
      "         Name   user_id  user_phone\n",
      "0    Shashank   4485217  7906985699\n",
      "1    Shashank   8089113  9336111096\n",
      "2    Shashank  11191522  8826361224\n",
      "3    SHASHANK  10583999  9450942643\n",
      "4    Shashank   7990628  8804227362\n",
      "5   Shashank    7595873  9305774423\n",
      "6    Shashank   6081398  6306681913\n",
      "7    shashank   6292988  8882176062\n",
      "8    Shashank   8549640  8856870012\n",
      "9     Sashank  10657742  6394327116\n",
      "10   Shashank   9932446  8318785219\n"
     ]
    }
   ],
   "source": [
    "print(user_name_df.head(11))"
   ]
  },
  {
   "cell_type": "code",
   "execution_count": 9,
   "id": "603aade4",
   "metadata": {},
   "outputs": [
    {
     "name": "stdout",
     "output_type": "stream",
     "text": [
      "['<https://watch.appfollow.io/apps/my-first-workspace/integrations/56176?tab=slack&amp;utm_source=review&amp;utm_campaign=Google+Play&amp;utm_medium=slack&amp;autologin=236483:6dd94a831e70ab4a3f8a31124bf614eb4ff51f0982985098c077acb9ccd0325c:1650533047&amp;t=r|CityMall', 'Customer', '-', 'हर', 'दिन', 'सही', 'दाम>\\nGoogle', 'Play,', 'City', 'Mall', 'Live\\n\\n★☆☆☆☆', 'English\\nWorst', 'app', 'ever', 'Whenever', 'I', 'order', 'some', 'thing', 'it', 'is', 'always', 'cancelled,', 'this', 'has', 'happened', '4', 'times', 'with', 'me.\\n_by_', '<https://www.google.com/search?q=%22Chhaya+Singh%22|Chhaya', 'Singh>', '_for', 'v1.30.9', '()', '–_', '', '', '·', '<https://watch.appfollow.io/apps/my-first-workspace/reviews/56176?review_id=915661264&amp;utm_source=reviews&amp;utm_medium=slack&amp;utm_campaign=reply&amp;autologin=236483:6dd94a831e70ab4a3f8a31124bf614eb4ff51f0982985098c077acb9ccd0325c:1650533047&amp;t=r|Reply>', '·', '<https://appfollow.io/gp/10556/review/915661264?s=global4&amp;utm_source=reviews&amp;utm_medium=slack&amp;utm_campaign=permalink|Permalink>', '·', '<https://appfollow.io/gp/10556/review/915661264?s=global4&amp;action=translate&amp;utm_source=reviews&amp;utm_medium=slack&amp;utm_campaign=translate|Translate>', '·', '<https://watch.appfollow.io/apps/my-first-workspace/reviews/56176?review_id=915661264&amp;utm_source=reviews&amp;utm_medium=slack&amp;utm_campaign=add_tag&amp;autologin=236483:6dd94a831e70ab4a3f8a31124bf614eb4ff51f0982985098c077acb9ccd0325c:1650533047&amp;t=r|Add', 'tag>']\n"
     ]
    }
   ],
   "source": [
    "CUSTOMER APP\n",
    "str=\"\"\"<https://watch.appfollow.io/apps/my-first-workspace/integrations/56176?tab=slack&amp;utm_source=review&amp;utm_campaign=Google+Play&amp;utm_medium=slack&amp;autologin=236483:6dd94a831e70ab4a3f8a31124bf614eb4ff51f0982985098c077acb9ccd0325c:1650533047&amp;t=r|CityMall Customer - हर दिन सही दाम>\n",
    "Google Play, City Mall Live\n",
    "\n",
    "★☆☆☆☆ English\n",
    "Worst app ever Whenever I order some thing it is always cancelled, this has happened 4 times with me.\n",
    "_by_ <https://www.google.com/search?q=%22Chhaya+Singh%22|Chhaya Singh> _for v1.30.9 () –_   · <https://watch.appfollow.io/apps/my-first-workspace/reviews/56176?review_id=915661264&amp;utm_source=reviews&amp;utm_medium=slack&amp;utm_campaign=reply&amp;autologin=236483:6dd94a831e70ab4a3f8a31124bf614eb4ff51f0982985098c077acb9ccd0325c:1650533047&amp;t=r|Reply> · <https://appfollow.io/gp/10556/review/915661264?s=global4&amp;utm_source=reviews&amp;utm_medium=slack&amp;utm_campaign=permalink|Permalink> · <https://appfollow.io/gp/10556/review/915661264?s=global4&amp;action=translate&amp;utm_source=reviews&amp;utm_medium=slack&amp;utm_campaign=translate|Translate> · <https://watch.appfollow.io/apps/my-first-workspace/reviews/56176?review_id=915661264&amp;utm_source=reviews&amp;utm_medium=slack&amp;utm_campaign=add_tag&amp;autologin=236483:6dd94a831e70ab4a3f8a31124bf614eb4ff51f0982985098c077acb9ccd0325c:1650533047&amp;t=r|Add tag>\"\"\"\n",
    "str=str.split(\" \")\n",
    "print(str)\n",
    "app_name=str[1] #Customer or Leader\n",
    "\n",
    "    \n",
    "    "
   ]
  },
  {
   "cell_type": "code",
   "execution_count": 40,
   "id": "33350b8d",
   "metadata": {},
   "outputs": [
    {
     "name": "stdout",
     "output_type": "stream",
     "text": [
      "['<https://watch.appfollow.io/apps/my-first-workspace/integrations/56177?utm_medium=slack&amp;utm_source=review&amp;utm_campaign=Google+Play&amp;tab=slack&amp;autologin=236483:8d034b41de458060897d50015fa2f064c1f8201c52c82314a4b2387878234bdb:1650443768&amp;t=r|Leader', 'App', '-', 'आपकी', 'दुकान,', 'आपकी', 'पहचान>\\nGoogle', 'Play,', 'City', 'Mall', 'Live\\n\\n★☆☆☆☆', 'English\\nCommission', 'nahi', 'milta', 'ek', 'do', 'baar', 'se', 'jayada\\n_by_', '<https://www.google.com/search?q=%22Dharmendra+Kumar%22|Dharmendra', 'Kumar>', '_for', 'v1.42.0', '()', '–_', '', '', '·', '<https://watch.appfollow.io/apps/my-first-workspace/reviews/56177?review_id=904984692&amp;utm_medium=slack&amp;utm_source=reviews&amp;utm_campaign=reply&amp;autologin=236483:8d034b41de458060897d50015fa2f064c1f8201c52c82314a4b2387878234bdb:1650443768&amp;t=r|Reply>', '·', '<https://appfollow.io/gp/10557/review/904984692?s=global4&amp;utm_medium=slack&amp;utm_source=reviews&amp;utm_campaign=permalink|Permalink>', '·', '<https://appfollow.io/gp/10557/review/904984692?s=global4&amp;action=translate&amp;utm_medium=slack&amp;utm_source=reviews&amp;utm_campaign=translate|Translate>', '·', '<https://watch.appfollow.io/apps/my-first-workspace/reviews/56177?review_id=904984692&amp;utm_medium=slack&amp;utm_source=reviews&amp;utm_campaign=add_tag&amp;autologin=236483:8d034b41de458060897d50015fa2f064c1f8201c52c82314a4b2387878234bdb:1650443768&amp;t=r|Add', 'tag>']\n"
     ]
    }
   ],
   "source": [
    "#LEADER APP\n",
    "\n",
    "str2=\"\"\"<https://watch.appfollow.io/apps/my-first-workspace/integrations/56177?utm_medium=slack&amp;utm_source=review&amp;utm_campaign=Google+Play&amp;tab=slack&amp;autologin=236483:8d034b41de458060897d50015fa2f064c1f8201c52c82314a4b2387878234bdb:1650443768&amp;t=r|Leader App - आपकी दुकान, आपकी पहचान>\n",
    "Google Play, City Mall Live\n",
    "\n",
    "★☆☆☆☆ English\n",
    "Commission nahi milta ek do baar se jayada\n",
    "_by_ <https://www.google.com/search?q=%22Dharmendra+Kumar%22|Dharmendra Kumar> _for v1.42.0 () –_   · <https://watch.appfollow.io/apps/my-first-workspace/reviews/56177?review_id=904984692&amp;utm_medium=slack&amp;utm_source=reviews&amp;utm_campaign=reply&amp;autologin=236483:8d034b41de458060897d50015fa2f064c1f8201c52c82314a4b2387878234bdb:1650443768&amp;t=r|Reply> · <https://appfollow.io/gp/10557/review/904984692?s=global4&amp;utm_medium=slack&amp;utm_source=reviews&amp;utm_campaign=permalink|Permalink> · <https://appfollow.io/gp/10557/review/904984692?s=global4&amp;action=translate&amp;utm_medium=slack&amp;utm_source=reviews&amp;utm_campaign=translate|Translate> · <https://watch.appfollow.io/apps/my-first-workspace/reviews/56177?review_id=904984692&amp;utm_medium=slack&amp;utm_source=reviews&amp;utm_campaign=add_tag&amp;autologin=236483:8d034b41de458060897d50015fa2f064c1f8201c52c82314a4b2387878234bdb:1650443768&amp;t=r|Add tag>\"\"\"\n",
    "\n",
    "str2=str2.split(\" \")\n",
    "print(str2)"
   ]
  },
  {
   "cell_type": "code",
   "execution_count": 101,
   "id": "09f23653",
   "metadata": {},
   "outputs": [
    {
     "name": "stdout",
     "output_type": "stream",
     "text": [
      "<https://www.google.com/search?q=%22Dharmendra+Kumar%22|Dharmendra\n",
      "None\n"
     ]
    }
   ],
   "source": [
    "import re\n",
    "# for idx, data in enumerate(str2):\n",
    "#     returned_value=re.match(\"<https://www.google.com/search?q=%*%22|\",data)\n",
    "data=str2[19]\n",
    "print(data)\n",
    "returned_value=re.search(r\"<https://www.google.com/search\\?\\\",data, re.IGNORECASE)\n",
    "print(returned_value)\n"
   ]
  },
  {
   "cell_type": "code",
   "execution_count": null,
   "id": "47d715d4",
   "metadata": {},
   "outputs": [],
   "source": []
  },
  {
   "cell_type": "code",
   "execution_count": null,
   "metadata": {},
   "outputs": [],
   "source": []
  }
 ],
 "metadata": {
  "kernelspec": {
   "display_name": "Python 3 (ipykernel)",
   "language": "python",
   "name": "python3"
  },
  "language_info": {
   "codemirror_mode": {
    "name": "ipython",
    "version": 3
   },
   "file_extension": ".py",
   "mimetype": "text/x-python",
   "name": "python",
   "nbconvert_exporter": "python",
   "pygments_lexer": "ipython3",
   "version": "3.9.12"
  }
 },
 "nbformat": 4,
 "nbformat_minor": 5
}
