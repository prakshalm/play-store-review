{
 "cells": [
  {
   "cell_type": "code",
   "execution_count": 269,
   "id": "740a82fe",
   "metadata": {},
   "outputs": [],
   "source": [
    "import pandas as pd\n",
    "from thefuzz import fuzz\n",
    "\n",
    "df=pd.read_csv('data_cx.csv',skiprows=1)"
   ]
  },
  {
   "cell_type": "code",
   "execution_count": 270,
   "id": "1f0ea4de",
   "metadata": {},
   "outputs": [
    {
     "name": "stdout",
     "output_type": "stream",
     "text": [
      "         user_id    user_name  user_phone         order_status processing_at\n",
      "0        8600603        Maudu  7452948264              PENDING    2022-04-25\n",
      "1        5788104        Jyoti  9821378852              PENDING    2022-04-25\n",
      "2        5130876       Sanjay  7988034061            FULFILLED    2022-04-25\n",
      "3       12080885     Md jasim  9867057984            FULFILLED    2022-04-25\n",
      "4       12064175          Omi  9836025003            FULFILLED    2022-04-25\n",
      "...          ...          ...         ...                  ...           ...\n",
      "512403  11534397          Vij  8708201790  PARTIALLY_DELIVERED    2022-04-16\n",
      "512404  11467807     Jitendra  7307478078            DELIVERED    2022-04-16\n",
      "512405   9986562  Ankit Gupta  9044005623            DELIVERED    2022-04-16\n",
      "512406  10469007   Chaurasiya  6390327315            DELIVERED    2022-04-16\n",
      "512407   2087158       Naveen  8818030972                  RTO    2022-04-16\n",
      "\n",
      "[512408 rows x 5 columns]\n"
     ]
    }
   ],
   "source": [
    "# import pandas as pd\n",
    "# import numpy as np\n",
    "# from thefuzz import fuzz\n",
    "# df=pd.read_csv('data_cx.csv',skiprows=1)\n",
    "print(df)"
   ]
  },
  {
   "cell_type": "code",
   "execution_count": 271,
   "id": "f69abdb5",
   "metadata": {},
   "outputs": [
    {
     "name": "stdout",
     "output_type": "stream",
     "text": [
      "512408\n"
     ]
    }
   ],
   "source": [
    "length=df.shape[0]\n",
    "print(length)\n",
    "df_name=df['user_name']"
   ]
  },
  {
   "cell_type": "code",
   "execution_count": 283,
   "id": "3e829844",
   "metadata": {},
   "outputs": [],
   "source": [
    "def removeDuplicates(lst):\n",
    "      \n",
    "    seen = []\n",
    "    Output = []\n",
    "    for a, b, c, d in lst:\n",
    "        if [a,b,c] not in seen:\n",
    "            seen.append([a,b,c])\n",
    "            Output.append([a, b, c, d])\n",
    "\n",
    "    seen = []\n",
    "    removed_Duplicate = []\n",
    "    for a, b, c, d in Output:\n",
    "        if c not in seen:\n",
    "            seen.append(c)\n",
    "            removed_Duplicate.append([a, b, c, d])\n",
    "        else:\n",
    "            index=seen.index(c)\n",
    "            removed_Duplicate[index][1]=str(removed_Duplicate[index][1])+','+str(b)\n",
    "            \n",
    "    return removed_Duplicate\n"
   ]
  },
  {
   "cell_type": "code",
   "execution_count": 328,
   "id": "8c4fe58e",
   "metadata": {},
   "outputs": [],
   "source": [
    "user_name=list()\n",
    "\n",
    "for i in range(length):\n",
    "    if(fuzz.ratio(str(df_name[i]).lower(),'Umang Gupta'.lower())>90):\n",
    "        user_name.append((df_name[i],df['user_id'][i],df['user_phone'][i], df['processing_at'][i]))\n",
    "user_name=removeDuplicates(user_name)\n",
    "user_name_df=pd.DataFrame(user_name)\n",
    "user_name_df.rename(columns = {0:'Name',1:'user_id',2:'user_phone',3:'Processing At'}, inplace = True)"
   ]
  },
  {
   "cell_type": "code",
   "execution_count": 329,
   "id": "9bd4313e",
   "metadata": {
    "scrolled": true
   },
   "outputs": [
    {
     "name": "stdout",
     "output_type": "stream",
     "text": [
      "          Name   user_id  user_phone Processing At\n",
      "0  Suman Gupta  11657839  9517008290    2022-04-24\n",
      "1  Suman gupta   9956539  8865056860    2022-04-23\n",
      "2  Umang Gupta  11234162  9410677304    2022-04-22\n",
      "3  Umang gupta  11338431  8006001188    2022-04-22\n",
      "4  Suman gupta   5441947  9696480212    2022-04-22\n",
      "5  Suman gupta   5951919  7860318119    2022-04-20\n",
      "6  Suman Gupta   3237356  8896256669    2022-04-20\n",
      "7  Suman gupta   6943986  9129118987    2022-04-18\n"
     ]
    }
   ],
   "source": [
    "# user_name_df=user_name_df.sort_values(by=['Processing At'],ascending=False).head(15)\n",
    "print(user_name_df.to_string())"
   ]
  },
  {
   "cell_type": "code",
   "execution_count": 300,
   "id": "603aade4",
   "metadata": {},
   "outputs": [
    {
     "ename": "SyntaxError",
     "evalue": "invalid syntax (4142563858.py, line 1)",
     "output_type": "error",
     "traceback": [
      "\u001b[0;36m  Input \u001b[0;32mIn [300]\u001b[0;36m\u001b[0m\n\u001b[0;31m    CUSTOMER APP\u001b[0m\n\u001b[0m             ^\u001b[0m\n\u001b[0;31mSyntaxError\u001b[0m\u001b[0;31m:\u001b[0m invalid syntax\n"
     ]
    }
   ],
   "source": [
    "CUSTOMER APP\n",
    "str=\"\"\"<https://watch.appfollow.io/apps/my-first-workspace/integrations/56176?tab=slack&amp;utm_source=review&amp;utm_campaign=Google+Play&amp;utm_medium=slack&amp;autologin=236483:6dd94a831e70ab4a3f8a31124bf614eb4ff51f0982985098c077acb9ccd0325c:1650533047&amp;t=r|CityMall Customer - हर दिन सही दाम>\n",
    "Google Play, City Mall Live\n",
    "\n",
    "★☆☆☆☆ English\n",
    "Worst app ever Whenever I order some thing it is always cancelled, this has happened 4 times with me.\n",
    "_by_ <https://www.google.com/search?q=%22Chhaya+Singh%22|Chhaya Singh> _for v1.30.9 () –_   · <https://watch.appfollow.io/apps/my-first-workspace/reviews/56176?review_id=915661264&amp;utm_source=reviews&amp;utm_medium=slack&amp;utm_campaign=reply&amp;autologin=236483:6dd94a831e70ab4a3f8a31124bf614eb4ff51f0982985098c077acb9ccd0325c:1650533047&amp;t=r|Reply> · <https://appfollow.io/gp/10556/review/915661264?s=global4&amp;utm_source=reviews&amp;utm_medium=slack&amp;utm_campaign=permalink|Permalink> · <https://appfollow.io/gp/10556/review/915661264?s=global4&amp;action=translate&amp;utm_source=reviews&amp;utm_medium=slack&amp;utm_campaign=translate|Translate> · <https://watch.appfollow.io/apps/my-first-workspace/reviews/56176?review_id=915661264&amp;utm_source=reviews&amp;utm_medium=slack&amp;utm_campaign=add_tag&amp;autologin=236483:6dd94a831e70ab4a3f8a31124bf614eb4ff51f0982985098c077acb9ccd0325c:1650533047&amp;t=r|Add tag>\"\"\"\n",
    "str=str.split(\" \")\n",
    "print(str)\n",
    "app_name=str[1] #Customer or Leader\n",
    "\n",
    "    \n",
    "    "
   ]
  },
  {
   "cell_type": "code",
   "execution_count": 332,
   "id": "33350b8d",
   "metadata": {},
   "outputs": [
    {
     "name": "stdout",
     "output_type": "stream",
     "text": [
      "<https://www.google.com/search?q=%22ShivBharat-__-Yadav00220%22|ShivBharat\n",
      "['ShivBharatYadav', 'ShivBharat']\n",
      "ShivBharatYadav ShivBharat\n"
     ]
    }
   ],
   "source": [
    "# LEADER APP\n",
    "import re\n",
    "userMessage=\"\"\"Google Play, City Mall Live\n",
    "\n",
    "★☆☆☆☆ English\n",
    "फ्रॉड फाउंडेशन की जगह\n",
    "_by_ <https://www.google.com/search?q=%22ShivBharat-__-Yadav00220%22|ShivBharat Yadav> _for v1.30.9 () -_  · <https://watch.appfollow.io/apps/my-first-workspace/reviews/56176?review_id=917686285&amp;utm_medium=slack&amp;utm_source=reviews&amp;utm_campaign=reply&amp;autologin=236483:95e0da652c4a6fdbd206204d31e3bf36474201424133dfa0b75749973c93f0e6:1650551048&amp;t=r|Reply> · <https://appfollow.io/gp/10556/review/917686285?s=global4&amp;utm_medium=slack&amp;utm_source=reviews&amp;utm_campaign=permalink|Permalink> · <https://appfollow.io/gp/10556/review/917686285?s=global4&amp;action=translate&amp;utm_medium=slack&amp;utm_source=reviews&amp;utm_campaign=translate|Translate> · <https://watch.appfollow.io/apps/my-first-workspace/reviews/56176?review_id=917686285&amp;utm_medium=slack&amp;utm_source=reviews&amp;utm_campaign=add_tag&amp;autologin=236483:95e0da652c4a6fdbd206204d31e3bf36474201424133dfa0b75749973c93f0e6:1650551048&amp;t=r|Add tag>\"\"\"\n",
    "\n",
    "userMessage=userMessage.split(\" \")\n",
    "for data in userMessage:\n",
    "    returned_value=re.search(r\"<https://www\\.google\\.com/search\\?q=%22\",data,re.IGNORECASE)\n",
    "    if returned_value:\n",
    "        userName=returned_value.string\n",
    "        print(userName)\n",
    "        \n",
    "        #removing unnecessary symbols from the userName\n",
    "        userName=userName.replace(\"<https://www.google.com/search?q=%22\",\"\")\n",
    "        userName=userName.replace(\"+\",\" \")\n",
    "        userName=userName.replace(\"%22\",\"\")\n",
    "        userName=userName.replace(\"|\",\" \")\n",
    "        userName=userName.replace(\"_\",\"\")\n",
    "        userName=userName.replace(\"-\",\"\")\n",
    "        userName = ''.join([i for i in userName if not i.isdigit()])    #removing digits from the userName\n",
    "        userName=userName.split(\" \")\n",
    "        print(userName)\n",
    "        userName=str(userName[0]+\" \"+userName[1])\n",
    "        print(userName)\n",
    "        "
   ]
  },
  {
   "cell_type": "code",
   "execution_count": 101,
   "id": "09f23653",
   "metadata": {},
   "outputs": [
    {
     "name": "stdout",
     "output_type": "stream",
     "text": [
      "<https://www.google.com/search?q=%22Dharmendra+Kumar%22|Dharmendra\n",
      "None\n"
     ]
    }
   ],
   "source": [
    "import re\n",
    "# for idx, data in enumerate(str2):\n",
    "#     returned_value=re.match(\"<https://www.google.com/search?q=%*%22|\",data)\n",
    "data=str2[19]\n",
    "print(data)\n",
    "returned_value=re.search(r\"<https://www.google.com/search\\?\\\",data, re.IGNORECASE)\n",
    "print(returned_value)\n"
   ]
  },
  {
   "cell_type": "code",
   "execution_count": null,
   "id": "47d715d4",
   "metadata": {},
   "outputs": [],
   "source": []
  },
  {
   "cell_type": "code",
   "execution_count": null,
   "id": "7661a24e",
   "metadata": {},
   "outputs": [],
   "source": []
  }
 ],
 "metadata": {
  "kernelspec": {
   "display_name": "Python 3 (ipykernel)",
   "language": "python",
   "name": "python3"
  },
  "language_info": {
   "codemirror_mode": {
    "name": "ipython",
    "version": 3
   },
   "file_extension": ".py",
   "mimetype": "text/x-python",
   "name": "python",
   "nbconvert_exporter": "python",
   "pygments_lexer": "ipython3",
   "version": "3.8.10"
  }
 },
 "nbformat": 4,
 "nbformat_minor": 5
}
