{
 "cells": [
  {
   "cell_type": "code",
   "execution_count": 1,
   "id": "2f1aed26",
   "metadata": {},
   "outputs": [],
   "source": [
    "import pandas as pd\n",
    "import numpy as np\n",
    "from thefuzz import fuzz\n",
    "df=pd.read_csv('data_cl.csv')\n"
   ]
  },
  {
   "cell_type": "code",
   "execution_count": 2,
   "id": "88573998",
   "metadata": {},
   "outputs": [
    {
     "name": "stdout",
     "output_type": "stream",
     "text": [
      "0             AMIT SRIVASTAVA\n",
      "1                 Sunil Kamal\n",
      "2                       Umang\n",
      "3                     Sourabh\n",
      "4                       Umang\n",
      "                 ...         \n",
      "481115               Satyadev\n",
      "481116                  Umang\n",
      "481117    Arun kumar varshney\n",
      "481118                  AKASH\n",
      "481119           Ashish Kumar\n",
      "Name: name, Length: 481120, dtype: object\n"
     ]
    }
   ],
   "source": [
    "\n",
    "length=df.shape[0]\n",
    "df_name=df['name']\n",
    "print(df_name)"
   ]
  },
  {
   "cell_type": "code",
   "execution_count": 3,
   "id": "1923d91e",
   "metadata": {},
   "outputs": [],
   "source": [
    "def removeDuplicates(lst):\n",
    "      \n",
    "    return list(set([i for i in lst]))\n",
    "\n",
    "def removeDuplicatesPhone(lst):\n",
    "    seen = []\n",
    "    Output = []\n",
    "    for a, b, c in lst:\n",
    "        if not c in seen:\n",
    "            seen.append(c)\n",
    "            Output.append([a, b, c])\n",
    "        else:\n",
    "            index=seen.index(c)\n",
    "            Output[index][1]=str(Output[index][1])+','+str(b)\n",
    "            \n",
    "    return Output\n"
   ]
  },
  {
   "cell_type": "code",
   "execution_count": 4,
   "id": "e12eb102",
   "metadata": {},
   "outputs": [],
   "source": [
    "user_info=list()\n",
    "for i in range(length):\n",
    "    if(fuzz.ratio(str(df_name[i]).lower(),'MOHD'.lower())>80):\n",
    "        user_info.append((df_name[i],df['user_id'][i],df['phone_number'][i]))\n",
    "user_info=removeDuplicates(user_info)\n",
    "user_info=removeDuplicatesPhone(user_info)\n",
    "user_info_df=pd.DataFrame(user_info)\n",
    "user_info_df.rename(columns = {0:'Name',1:'user_id',2:'phone_number'}, inplace = True)"
   ]
  },
  {
   "cell_type": "code",
   "execution_count": 224,
   "id": "ef877de4",
   "metadata": {},
   "outputs": [
    {
     "name": "stdout",
     "output_type": "stream",
     "text": [
      "[['Mohd', 11128946, 8954118890]]\n"
     ]
    }
   ],
   "source": [
    "print(user_info)"
   ]
  },
  {
   "cell_type": "code",
   "execution_count": 225,
   "id": "b69148c8",
   "metadata": {},
   "outputs": [],
   "source": [
    "# To Do, append user_id into the user_id of the same phone"
   ]
  },
  {
   "cell_type": "code",
   "execution_count": 226,
   "id": "cf3affa6",
   "metadata": {},
   "outputs": [
    {
     "name": "stdout",
     "output_type": "stream",
     "text": [
      "   Name   user_id  phone_number\n",
      "0  Mohd  11128946    8954118890\n"
     ]
    }
   ],
   "source": [
    "print(user_info_df)"
   ]
  },
  {
   "cell_type": "code",
   "execution_count": null,
   "id": "1b281ff6",
   "metadata": {},
   "outputs": [],
   "source": []
  }
 ],
 "metadata": {
  "kernelspec": {
   "display_name": "Python 3 (ipykernel)",
   "language": "python",
   "name": "python3"
  },
  "language_info": {
   "codemirror_mode": {
    "name": "ipython",
    "version": 3
   },
   "file_extension": ".py",
   "mimetype": "text/x-python",
   "name": "python",
   "nbconvert_exporter": "python",
   "pygments_lexer": "ipython3",
   "version": "3.9.12"
  }
 },
 "nbformat": 4,
 "nbformat_minor": 5
}
