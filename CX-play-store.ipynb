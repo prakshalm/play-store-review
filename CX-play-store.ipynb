{
 "cells": [
  {
   "cell_type": "code",
   "execution_count": 3,
   "id": "1f0ea4de",
   "metadata": {},
   "outputs": [],
   "source": [
    "import pandas as pd\n",
    "import numpy as np\n",
    "from thefuzz import fuzz\n",
    "df=pd.read_csv('data_cx.csv')\n"
   ]
  },
  {
   "cell_type": "code",
   "execution_count": 4,
   "id": "c688c897",
   "metadata": {},
   "outputs": [
    {
     "name": "stdout",
     "output_type": "stream",
     "text": [
      "        user_id         user_name  user_phone order_status\n",
      "0       1831620              Raju  9306371097    DELIVERED\n",
      "1        623978          Ashwani   7015431518    CANCELLED\n",
      "2       7942264           Manisha  8376063351    DELIVERED\n",
      "3       6350876       Momin saifi  8745811810    DELIVERED\n",
      "4       4686906            Govind  9335906110    DELIVERED\n",
      "...         ...               ...         ...          ...\n",
      "977664  6329771  Vidit Srivastava  8756452594    DELIVERED\n",
      "977665  4228607      Aman Tiwari   9860992391    CANCELLED\n",
      "977666  9992015              Ravi  9783327972    DELIVERED\n",
      "977667  9934555         Tara jani  8601126153    DELIVERED\n",
      "977668  6994523         Neeraj ji  8791813593    DELIVERED\n",
      "\n",
      "[977669 rows x 4 columns]\n"
     ]
    }
   ],
   "source": [
    "print(df)\n",
    "df_name=df['user_name']\n",
    "length=df.shape[0]"
   ]
  },
  {
   "cell_type": "code",
   "execution_count": 16,
   "id": "3e829844",
   "metadata": {},
   "outputs": [],
   "source": [
    "def removeDuplicates(lst):\n",
    "      \n",
    "    return list(set([i for i in lst]))\n",
    "\n",
    "def removeDuplicatesPhone(lst):\n",
    "    seen = []\n",
    "    Output = []\n",
    "    for a, b, c in lst:\n",
    "        if not c in seen:\n",
    "            seen.append(c)\n",
    "            Output.append([a, b, c])\n",
    "        else:\n",
    "            index=seen.index(c)\n",
    "            Output[index][1]=str(Output[index][1])+','+str(b)\n",
    "            \n",
    "    return Output\n"
   ]
  },
  {
   "cell_type": "code",
   "execution_count": 17,
   "id": "8c4fe58e",
   "metadata": {},
   "outputs": [],
   "source": [
    "user_name=list()\n",
    "\n",
    "for i in range(length):\n",
    "    if(fuzz.ratio(str(df_name[i]).lower(),'Shashank'.lower())>90):\n",
    "        user_name.append((df_name[i],df['user_id'][i],df['user_phone'][i]))\n",
    "user_name=removeDuplicates(user_name)\n",
    "user_name=removeDuplicatesPhone(user_name)\n",
    "user_name_df=pd.DataFrame(user_name)\n",
    "user_name_df.rename(columns = {0:'Name',1:'user_id',2:'user_phone'}, inplace = True)"
   ]
  },
  {
   "cell_type": "code",
   "execution_count": 18,
   "id": "9bd4313e",
   "metadata": {
    "scrolled": true
   },
   "outputs": [
    {
     "name": "stdout",
     "output_type": "stream",
     "text": [
      "         Name   user_id  user_phone\n",
      "0    Shashank   4485217  7906985699\n",
      "1    Shashank   8089113  9336111096\n",
      "2    Shashank  11191522  8826361224\n",
      "3    SHASHANK  10583999  9450942643\n",
      "4    Shashank   7990628  8804227362\n",
      "5   Shashank    7595873  9305774423\n",
      "6    Shashank   6081398  6306681913\n",
      "7    shashank   6292988  8882176062\n",
      "8    Shashank   8549640  8856870012\n",
      "9     Sashank  10657742  6394327116\n",
      "10   Shashank   9932446  8318785219\n"
     ]
    }
   ],
   "source": [
    "print(user_name_df.head(11))"
   ]
  },
  {
   "cell_type": "code",
   "execution_count": null,
   "id": "603aade4",
   "metadata": {},
   "outputs": [],
   "source": []
  }
 ],
 "metadata": {
  "kernelspec": {
   "display_name": "Python 3 (ipykernel)",
   "language": "python",
   "name": "python3"
  },
  "language_info": {
   "codemirror_mode": {
    "name": "ipython",
    "version": 3
   },
   "file_extension": ".py",
   "mimetype": "text/x-python",
   "name": "python",
   "nbconvert_exporter": "python",
   "pygments_lexer": "ipython3",
   "version": "3.8.10"
  }
 },
 "nbformat": 4,
 "nbformat_minor": 5
}
